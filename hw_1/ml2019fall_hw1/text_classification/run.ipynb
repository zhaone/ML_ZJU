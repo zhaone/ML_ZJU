{
 "cells": [
  {
   "cell_type": "markdown",
   "metadata": {},
   "source": [
    "# Text Classification\n",
    "*Complete and hand in this completed worksheet (including its outputs and any supporting code outside of the worksheet) with your assignment submission. Please check the pdf file for more details.*\n",
    "\n",
    "In this exercise you will:\n",
    "    \n",
    "- implement a of spam classifier with **Naive Bayes method** for real world email messages\n",
    "- learn the **training and testing phase** for Naive Bayes classifier  \n",
    "- get an idea of the **precision-recall** tradeoff"
   ]
  },
  {
   "cell_type": "code",
   "execution_count": 2,
   "metadata": {},
   "outputs": [],
   "source": [
    "# some basic imports\n",
    "import numpy as np\n",
    "import matplotlib.pyplot as plt\n",
    "import scipy.sparse\n",
    "%matplotlib inline\n",
    "\n",
    "%load_ext autoreload\n",
    "%autoreload 2"
   ]
  },
  {
   "cell_type": "code",
   "execution_count": 3,
   "metadata": {},
   "outputs": [
    {
     "name": "stderr",
     "output_type": "stream",
     "text": [
      "c:\\program files\\python37\\lib\\site-packages\\ipykernel_launcher.py:19: SparseEfficiencyWarning: Changing the sparsity structure of a csr_matrix is expensive. lil_matrix is more efficient.\n",
      "c:\\program files\\python37\\lib\\site-packages\\ipykernel_launcher.py:26: SparseEfficiencyWarning: Changing the sparsity structure of a csr_matrix is expensive. lil_matrix is more efficient.\n"
     ]
    }
   ],
   "source": [
    "# ham_train contains the occurrences of each word in ham emails. 1-by-N vector\n",
    "ham_train = np.loadtxt('ham_train.csv', delimiter=',')\n",
    "# spam_train contains the occurrences of each word in spam emails. 1-by-N vector\n",
    "spam_train = np.loadtxt('spam_train.csv', delimiter=',')\n",
    "# N is the size of vocabulary.\n",
    "N = ham_train.shape[0]\n",
    "# There 9034 ham emails and 3372 spam emails in the training samples\n",
    "num_ham_train = 9034\n",
    "num_spam_train = 3372\n",
    "# Do smoothing, Forcibly add one????????\n",
    "x = np.vstack([ham_train, spam_train]) + 1\n",
    "\n",
    "# ham_test contains the occurences of each word in each ham test email. P-by-N vector, with P is number of ham test emails.\n",
    "i,j,ham_test = np.loadtxt('ham_test.txt').T\n",
    "i = i.astype(np.int)\n",
    "j = j.astype(np.int)\n",
    "ham_test_tight = scipy.sparse.coo_matrix((ham_test, (i - 1, j - 1)))\n",
    "ham_test = scipy.sparse.csr_matrix((ham_test_tight.shape[0], ham_train.shape[0]))\n",
    "ham_test[:, 0:ham_test_tight.shape[1]] = ham_test_tight\n",
    "# spam_test contains the occurences of each word in each spam test email. Q-by-N vector, with Q is number of spam test emails.\n",
    "i,j,spam_test = np.loadtxt('spam_test.txt').T\n",
    "i = i.astype(np.int)\n",
    "j = j.astype(np.int)\n",
    "spam_test_tight = scipy.sparse.csr_matrix((spam_test, (i - 1, j - 1)))\n",
    "spam_test = scipy.sparse.csr_matrix((spam_test_tight.shape[0], spam_train.shape[0]))\n",
    "spam_test[:, 0:spam_test_tight.shape[1]] = spam_test_tight\n"
   ]
  },
  {
   "cell_type": "markdown",
   "metadata": {},
   "source": [
    "## Now let's implement a ham/spam email classifier. Please refer to the PDF file for details"
   ]
  },
  {
   "cell_type": "code",
   "execution_count": 4,
   "metadata": {},
   "outputs": [
    {
     "name": "stdout",
     "output_type": "stream",
     "text": [
      "id  30032 nbsp :  1325.1002358991152 385.0 /spam 0.0 /ham\n",
      "id  75525 viagra :  1249.5763882571969 363.0 /spam 0.0 /ham\n",
      "id  38175 pills :  1101.9615951389017 320.0 /spam 0.0 /ham\n",
      "id  45152 cialis :  847.9268348888121 246.0 /spam 0.0 /ham\n",
      "id  9493 voip :  837.6281283921868 243.0 /spam 0.0 /ham\n",
      "id  65397 php :  768.9700850813518 223.0 /spam 0.0 /ham\n",
      "id  37567 meds :  672.8488244461829 195.0 /spam 0.0 /ham\n",
      "id  13612 computron :  652.2514114529324 189.0 /spam 0.0 /ham\n",
      "id  56929 sex :  614.4894876319731 178.0 /spam 0.0 /ham\n",
      "id  9452 ooking :  518.3682269968041 150.0 /spam 0.0 /ham\n"
     ]
    }
   ],
   "source": [
    "from likelihood import likelihood\n",
    "import heapq \n",
    "# TODO\n",
    "# Implement a ham/spam email classifier, and calculate the accuracy of your classifier\n",
    "\n",
    "# Hint: you can directly do matrix multiply between scipy.sparse.coo_matrix and numpy.array.\n",
    "# Specifically, you can use sparse_matrix * np_array to do this. Note that when you use \"*\" operator\n",
    "# between numpy array, this is typically an elementwise multiply.\n",
    "\n",
    "# begin answer\n",
    "# ham_train[w]=num, the w-th item represent the occurences w-id word\n",
    "# ham_test[i,j]=num, i is the id of e-mail, j is the id of word, num is the num of occurences of j-id word in i-id email, a sparse matrix\n",
    "total_num = np.sum(x, axis=1)\n",
    "p_x = (x.T/total_num).T\n",
    "# all item in p_x[0,:] > 0, no devide err\n",
    "ratio = p_x[1,:]/ p_x[0,:]\n",
    "word_idx_h10 = heapq.nlargest(10, range(ratio.shape[0]), ratio.take)\n",
    "word_map = {}\n",
    "with open('all_word_map.txt','r') as f:\n",
    "    lines = f.readlines()\n",
    "    for line in lines:\n",
    "        word, idx = line.split('\\t')\n",
    "        word_map.update({int(idx)-1:word})\n",
    "\n",
    "for idx in word_idx_h10:\n",
    "    print('id ',idx, word_map[idx], ': ', ratio[idx],  spam_train[idx], '/spam', ham_train[idx], '/ham')\n",
    "# end answer"
   ]
  },
  {
   "cell_type": "code",
   "execution_count": 42,
   "metadata": {},
   "outputs": [
    {
     "name": "stdout",
     "output_type": "stream",
     "text": [
      "28 / 3011\n",
      "31 / 1124\n"
     ]
    }
   ],
   "source": [
    "lh = likelihood(x) # now lh is p(x_i|c)\n",
    "prior = np.asarray([num_ham_train, num_spam_train]) / (num_ham_train+num_spam_train) # prior prob\n",
    "log_lh = np.log(lh)\n",
    "# to avoid underflow, replace \\prod p(x_i|c) * p(c) with ln(\\prod p(x_i|c) * p(c)) which is \\sum ln(p(x_i|c)) + ln(p(c))\n",
    "\n",
    "# for ham_test\n",
    "ham_test_dense = ham_test.todense()\n",
    "lh_ham_doc = np.dot(log_lh, ham_test_dense.T)\n",
    "post_ham_doc = (lh_ham_doc.T + np.log(prior)).T\n",
    "err = np.sum(np.argmax(post_ham_doc, axis=0))\n",
    "print(err, '/', post_ham_doc.shape[1])\n",
    "\n",
    "# for ham_test\n",
    "spam_test_dense = spam_test.todense()\n",
    "lh_spam_doc = np.dot(log_lh, spam_test_dense.T)\n",
    "post_spam_doc = (lh_spam_doc.T + np.log(prior)).T\n",
    "err = np.sum(1-np.argmax(post_spam_doc, axis=0))\n",
    "print(err, '/', post_spam_doc.shape[1])"
   ]
  },
  {
   "cell_type": "code",
   "execution_count": 38,
   "metadata": {},
   "outputs": [
    {
     "name": "stdout",
     "output_type": "stream",
     "text": [
      "[[-8.63432865e+02 -1.25786303e+03 -3.71034376e+03 ... -7.34837598e+02\n",
      "  -6.10116523e+01 -3.39988551e+04]\n",
      " [-3.89812600e+02 -5.39209481e+02 -1.63046145e+03 ... -2.85201701e+02\n",
      "  -3.24767904e+01 -1.45029748e+04]]\n",
      "[[ -575.70594534 -2922.10184967 -3124.69830799 ...  -435.66099882\n",
      "   -787.64474746  -953.19199775]\n",
      " [ -194.29733022  -976.62839931 -1108.65874498 ...  -146.2524857\n",
      "   -280.35154577  -305.25967185]]\n"
     ]
    }
   ],
   "source": [
    "print(post_ham_doc[:10])\n",
    "print(post_spam_doc[:10])"
   ]
  }
 ],
 "metadata": {
  "kernelspec": {
   "display_name": "Python 3",
   "language": "python",
   "name": "python3"
  },
  "language_info": {
   "codemirror_mode": {
    "name": "ipython",
    "version": 3
   },
   "file_extension": ".py",
   "mimetype": "text/x-python",
   "name": "python",
   "nbconvert_exporter": "python",
   "pygments_lexer": "ipython3",
   "version": "3.7.1"
  }
 },
 "nbformat": 4,
 "nbformat_minor": 4
}
