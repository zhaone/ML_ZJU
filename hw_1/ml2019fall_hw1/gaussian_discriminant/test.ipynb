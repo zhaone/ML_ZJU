{
 "cells": [
  {
   "cell_type": "code",
   "execution_count": 4,
   "metadata": {},
   "outputs": [
    {
     "name": "stdout",
     "output_type": "stream",
     "text": [
      "[[1.59154943e-01 3.18309886e-01 7.95774715e-02]\n",
      " [5.85498315e-02 4.30785586e-02 4.82661763e-02]\n",
      " [5.85498315e-02 4.30785586e-02 4.82661763e-02]\n",
      " [2.91502447e-03 1.06781071e-04 1.07696397e-02]]\n"
     ]
    }
   ],
   "source": [
    "import numpy as np\n",
    "from gaussian_pos_prob import gaussian_pos_prob\n",
    "\n",
    "M = 2\n",
    "N = 4\n",
    "K = 3\n",
    "\n",
    "# M-by-K\n",
    "Mu = np.asarray([[0,0,0],[0,0,0]])\n",
    "# M-by-M-by-K\n",
    "Sigma = np.asarray([[[1, 0.5, 2],[0, 0, 0]],[[0, 0, 0],[1, 0.5, 2]]])\n",
    "# 1-by-K\n",
    "Phi = np.asarray([0.5,0.5,0.5])\n",
    "# M-by-N\n",
    "X = np.asarray([[0, 1, -1, 2],[0, 1, -1, 2]])\n",
    "\n",
    "print(gaussian_pos_prob(X, Mu, Sigma, Phi))"
   ]
  }
 ],
 "metadata": {
  "kernelspec": {
   "display_name": "Python 3",
   "language": "python",
   "name": "python3"
  },
  "language_info": {
   "codemirror_mode": {
    "name": "ipython",
    "version": 3
   },
   "file_extension": ".py",
   "mimetype": "text/x-python",
   "name": "python",
   "nbconvert_exporter": "python",
   "pygments_lexer": "ipython3",
   "version": "3.7.1"
  }
 },
 "nbformat": 4,
 "nbformat_minor": 4
}
